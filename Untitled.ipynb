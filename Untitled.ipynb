{
 "cells": [
  {
   "cell_type": "code",
   "execution_count": 1,
   "metadata": {},
   "outputs": [],
   "source": [
    "from mainapp.models import Post\n",
    "from django.contrib.auth.models import User\n"
   ]
  },
  {
   "cell_type": "code",
   "execution_count": 8,
   "metadata": {},
   "outputs": [],
   "source": [
    "post = Post.objects.first()"
   ]
  },
  {
   "cell_type": "code",
   "execution_count": 14,
   "metadata": {},
   "outputs": [
    {
     "data": {
      "text/plain": [
       "['__call__',\n",
       " '__class__',\n",
       " '__delattr__',\n",
       " '__dict__',\n",
       " '__dir__',\n",
       " '__doc__',\n",
       " '__eq__',\n",
       " '__format__',\n",
       " '__ge__',\n",
       " '__getattribute__',\n",
       " '__gt__',\n",
       " '__hash__',\n",
       " '__init__',\n",
       " '__init_subclass__',\n",
       " '__le__',\n",
       " '__lt__',\n",
       " '__module__',\n",
       " '__ne__',\n",
       " '__new__',\n",
       " '__reduce__',\n",
       " '__reduce_ex__',\n",
       " '__repr__',\n",
       " '__setattr__',\n",
       " '__sizeof__',\n",
       " '__slotnames__',\n",
       " '__str__',\n",
       " '__subclasshook__',\n",
       " '__weakref__',\n",
       " '_add_items',\n",
       " '_apply_rel_filters',\n",
       " '_build_remove_filters',\n",
       " '_constructor_args',\n",
       " '_create_user',\n",
       " '_db',\n",
       " '_get_queryset_methods',\n",
       " '_hints',\n",
       " '_insert',\n",
       " '_queryset_class',\n",
       " '_remove_items',\n",
       " '_remove_prefetched_objects',\n",
       " '_set_creation_counter',\n",
       " '_update',\n",
       " 'add',\n",
       " 'aggregate',\n",
       " 'all',\n",
       " 'annotate',\n",
       " 'auto_created',\n",
       " 'bulk_create',\n",
       " 'check',\n",
       " 'clear',\n",
       " 'complex_filter',\n",
       " 'contribute_to_class',\n",
       " 'core_filters',\n",
       " 'count',\n",
       " 'create',\n",
       " 'create_superuser',\n",
       " 'create_user',\n",
       " 'creation_counter',\n",
       " 'dates',\n",
       " 'datetimes',\n",
       " 'db',\n",
       " 'db_manager',\n",
       " 'deconstruct',\n",
       " 'defer',\n",
       " 'difference',\n",
       " 'distinct',\n",
       " 'do_not_call_in_templates',\n",
       " 'earliest',\n",
       " 'exclude',\n",
       " 'exists',\n",
       " 'explain',\n",
       " 'extra',\n",
       " 'filter',\n",
       " 'first',\n",
       " 'from_queryset',\n",
       " 'get',\n",
       " 'get_by_natural_key',\n",
       " 'get_or_create',\n",
       " 'get_prefetch_queryset',\n",
       " 'get_queryset',\n",
       " 'in_bulk',\n",
       " 'instance',\n",
       " 'intersection',\n",
       " 'iterator',\n",
       " 'last',\n",
       " 'latest',\n",
       " 'make_random_password',\n",
       " 'model',\n",
       " 'name',\n",
       " 'none',\n",
       " 'normalize_email',\n",
       " 'only',\n",
       " 'order_by',\n",
       " 'pk_field_names',\n",
       " 'prefetch_cache_name',\n",
       " 'prefetch_related',\n",
       " 'query_field_name',\n",
       " 'raw',\n",
       " 'related_val',\n",
       " 'remove',\n",
       " 'reverse',\n",
       " 'select_for_update',\n",
       " 'select_related',\n",
       " 'set',\n",
       " 'source_field',\n",
       " 'source_field_name',\n",
       " 'symmetrical',\n",
       " 'target_field',\n",
       " 'target_field_name',\n",
       " 'through',\n",
       " 'union',\n",
       " 'update',\n",
       " 'update_or_create',\n",
       " 'use_in_migrations',\n",
       " 'using',\n",
       " 'values',\n",
       " 'values_list']"
      ]
     },
     "execution_count": 14,
     "metadata": {},
     "output_type": "execute_result"
    }
   ],
   "source": [
    "dir(post.user_like_dislike)"
   ]
  },
  {
   "cell_type": "code",
   "execution_count": 6,
   "metadata": {},
   "outputs": [],
   "source": [
    "user = User.objects.get(id=2)"
   ]
  },
  {
   "cell_type": "code",
   "execution_count": 7,
   "metadata": {},
   "outputs": [
    {
     "data": {
      "text/plain": [
       "<User: admin>"
      ]
     },
     "execution_count": 7,
     "metadata": {},
     "output_type": "execute_result"
    }
   ],
   "source": [
    "user\n"
   ]
  },
  {
   "cell_type": "code",
   "execution_count": null,
   "metadata": {},
   "outputs": [],
   "source": []
  }
 ],
 "metadata": {
  "kernelspec": {
   "display_name": "Django Shell-Plus",
   "language": "python",
   "name": "django_extensions"
  },
  "language_info": {
   "codemirror_mode": {
    "name": "ipython",
    "version": 3
   },
   "file_extension": ".py",
   "mimetype": "text/x-python",
   "name": "python",
   "nbconvert_exporter": "python",
   "pygments_lexer": "ipython3",
   "version": "3.6.7"
  }
 },
 "nbformat": 4,
 "nbformat_minor": 2
}
